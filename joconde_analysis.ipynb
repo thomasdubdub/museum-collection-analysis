{
 "cells": [
  {
   "cell_type": "markdown",
   "metadata": {},
   "source": [
    "# Analysis of French museums' collections (Joconde database)"
   ]
  },
  {
   "cell_type": "markdown",
   "metadata": {},
   "source": [
    "#### <br> *Download the open data CSV file [here](https://www.data.gouv.fr/fr/datasets/5b435ff2c751df675059dde9/) named joconde-MUSEES-valid.csv*"
   ]
  },
  {
   "cell_type": "markdown",
   "metadata": {},
   "source": [
    "#### <br> Load the table from the CSV file"
   ]
  },
  {
   "cell_type": "markdown",
   "metadata": {},
   "source": [
    "##### *Initial fiels are named REF|INV|DOMN|DENO|TITR|AUTR|PERI|EPOQ|TECH|DIMS|DECV|STAT|LOCA|COPY standing for : the id of the record, the number of the object, the domain, the type, the title, the author, the time period, the epoch, the material and technique, the dimensions, the discovery, the juridical status, the place of preservation and the source and data of the record*"
   ]
  },
  {
   "cell_type": "code",
   "execution_count": 186,
   "metadata": {},
   "outputs": [
    {
     "data": {
      "text/html": [
       "<div>\n",
       "<style scoped>\n",
       "    .dataframe tbody tr th:only-of-type {\n",
       "        vertical-align: middle;\n",
       "    }\n",
       "\n",
       "    .dataframe tbody tr th {\n",
       "        vertical-align: top;\n",
       "    }\n",
       "\n",
       "    .dataframe thead th {\n",
       "        text-align: right;\n",
       "    }\n",
       "</style>\n",
       "<table border=\"1\" class=\"dataframe\">\n",
       "  <thead>\n",
       "    <tr style=\"text-align: right;\">\n",
       "      <th></th>\n",
       "      <th>REF</th>\n",
       "      <th>DOMN</th>\n",
       "      <th>DENO</th>\n",
       "      <th>TITR</th>\n",
       "      <th>AUTR</th>\n",
       "      <th>PERI</th>\n",
       "      <th>TECH</th>\n",
       "      <th>DIMS</th>\n",
       "      <th>PROPERTY</th>\n",
       "      <th>CITY</th>\n",
       "      <th>PLACE</th>\n",
       "      <th>RECORD_SOURCE</th>\n",
       "      <th>RECORD_DATE</th>\n",
       "    </tr>\n",
       "  </thead>\n",
       "  <tbody>\n",
       "    <tr>\n",
       "      <th>501146</th>\n",
       "      <td>01610008876</td>\n",
       "      <td>archéologie ; architecture ; gallo-romain</td>\n",
       "      <td>plaque ; fragment</td>\n",
       "      <td>Fragment de panneau taillé et mouluré</td>\n",
       "      <td>anonyme (sculpteur)</td>\n",
       "      <td>NaN</td>\n",
       "      <td>schiste, taille, mouluré</td>\n",
       "      <td>Hauteur en cm 10.70 ; Largeur en cm 9.80 ; Epa...</td>\n",
       "      <td>propriété de la commune</td>\n",
       "      <td>Autun</td>\n",
       "      <td>musée Rolin</td>\n",
       "      <td>© Autun,  musée Rolin,  © Service des musées d...</td>\n",
       "      <td>2014</td>\n",
       "    </tr>\n",
       "    <tr>\n",
       "      <th>328762</th>\n",
       "      <td>50350508549</td>\n",
       "      <td>dessin</td>\n",
       "      <td>NaN</td>\n",
       "      <td>Trophée de chasse avec cors, gibecières, pique...</td>\n",
       "      <td>SAINT-AUBIN Charles Germain de</td>\n",
       "      <td>18e siècle</td>\n",
       "      <td>plume ; encre brune ; lavis gris ; pierre noire</td>\n",
       "      <td>H. en m 0,159 ; L. en m 0,215</td>\n",
       "      <td>propriété de l'Etat</td>\n",
       "      <td>Paris</td>\n",
       "      <td>musée du Louvre département des Arts graphiques</td>\n",
       "      <td>© musée du Louvre département des Arts graphiq...</td>\n",
       "      <td>2005</td>\n",
       "    </tr>\n",
       "    <tr>\n",
       "      <th>185132</th>\n",
       "      <td>50350124266</td>\n",
       "      <td>dessin</td>\n",
       "      <td>NaN</td>\n",
       "      <td>Jeune femme nue, un voile sur les jambes, joua...</td>\n",
       "      <td>SOLON Marc Louis Emmanuel</td>\n",
       "      <td>19e siècle ; 20e siècle</td>\n",
       "      <td>estompe ; mine de plomb ; blanc (rehaut)</td>\n",
       "      <td>H. en m 0,155 ; L. en m 0,155</td>\n",
       "      <td>propriété de l'Etat</td>\n",
       "      <td>Paris</td>\n",
       "      <td>musée du Louvre département des Arts graphiques</td>\n",
       "      <td>© musée du Louvre département des Arts graphiq...</td>\n",
       "      <td>1995</td>\n",
       "    </tr>\n",
       "  </tbody>\n",
       "</table>\n",
       "</div>"
      ],
      "text/plain": [
       "                         REF                                       DOMN  \\\n",
       "501146  01610008876           archéologie ; architecture ; gallo-romain   \n",
       "328762  50350508549                                              dessin   \n",
       "185132  50350124266                                              dessin   \n",
       "\n",
       "                     DENO                                               TITR  \\\n",
       "501146  plaque ; fragment              Fragment de panneau taillé et mouluré   \n",
       "328762                NaN  Trophée de chasse avec cors, gibecières, pique...   \n",
       "185132                NaN  Jeune femme nue, un voile sur les jambes, joua...   \n",
       "\n",
       "                                  AUTR                     PERI  \\\n",
       "501146             anonyme (sculpteur)                      NaN   \n",
       "328762  SAINT-AUBIN Charles Germain de               18e siècle   \n",
       "185132       SOLON Marc Louis Emmanuel  19e siècle ; 20e siècle   \n",
       "\n",
       "                                                   TECH  \\\n",
       "501146                         schiste, taille, mouluré   \n",
       "328762  plume ; encre brune ; lavis gris ; pierre noire   \n",
       "185132         estompe ; mine de plomb ; blanc (rehaut)   \n",
       "\n",
       "                                                     DIMS  \\\n",
       "501146  Hauteur en cm 10.70 ; Largeur en cm 9.80 ; Epa...   \n",
       "328762                      H. en m 0,159 ; L. en m 0,215   \n",
       "185132                      H. en m 0,155 ; L. en m 0,155   \n",
       "\n",
       "                        PROPERTY    CITY  \\\n",
       "501146  propriété de la commune   Autun    \n",
       "328762      propriété de l'Etat   Paris    \n",
       "185132      propriété de l'Etat   Paris    \n",
       "\n",
       "                                                   PLACE  \\\n",
       "501146                                       musée Rolin   \n",
       "328762   musée du Louvre département des Arts graphiques   \n",
       "185132   musée du Louvre département des Arts graphiques   \n",
       "\n",
       "                                            RECORD_SOURCE  RECORD_DATE  \n",
       "501146  © Autun,  musée Rolin,  © Service des musées d...         2014  \n",
       "328762  © musée du Louvre département des Arts graphiq...         2005  \n",
       "185132  © musée du Louvre département des Arts graphiq...         1995  "
      ]
     },
     "execution_count": 186,
     "metadata": {},
     "output_type": "execute_result"
    }
   ],
   "source": [
    "# REF|INV|DOMN|DENO|TITR|AUTR|PERI|EPOQ|TECH|DIMS|DECV|STAT|LOCA|COPY\n",
    "# ID-notice / Numéro de l'objet / Domaine / Dénomination / Titre / Auteur / Période de création / Epoque / Matériaux-techniques /\n",
    "# Dimensions / Découverte / Statut juridique / Lieu de conservation / Source et date de la notice \n",
    "\n",
    "import pandas as pd\n",
    "full_df = pd.read_csv('joconde-MUSEES-valid.csv', sep='|', header=0, encoding='utf-8', dtype=str)\n",
    "full_df['PROPERTY'] = full_df['STAT'].str.split(';').str[0]\n",
    "full_df['CITY'] = full_df['LOCA'].str.split(';').str[0]\n",
    "full_df['CITY'].fillna(\"\", inplace=True)\n",
    "full_df['PLACE'] = full_df['LOCA'].str.split(';').str[-1]\n",
    "full_df['RECORD_SOURCE'] = full_df['COPY'].apply(lambda x: \", \".join(str(x).split(',')[0:len(str(x).split(','))-1]).strip())\n",
    "full_df['RECORD_DATE'] = full_df['COPY'].str.split(',').str[-1]\n",
    "full_df['RECORD_DATE'] = pd.to_numeric(full_df['RECORD_DATE'], errors='coerce').fillna(0)\n",
    "full_df['RECORD_DATE'] = full_df['RECORD_DATE'].astype('int64') \n",
    "df = full_df[['REF','DOMN','DENO','TITR','AUTR','PERI','TECH','DIMS','PROPERTY','CITY','PLACE','RECORD_SOURCE','RECORD_DATE']]\n",
    "df.sample(3)"
   ]
  },
  {
   "cell_type": "markdown",
   "metadata": {},
   "source": [
    "#### About the Joconde database"
   ]
  },
  {
   "cell_type": "code",
   "execution_count": 187,
   "metadata": {},
   "outputs": [
    {
     "name": "stdout",
     "output_type": "stream",
     "text": [
      "589277 objects listed in the Joconde database\n"
     ]
    }
   ],
   "source": [
    "print('{} objects listed in the Joconde database'.format(df['REF'].count()))"
   ]
  },
  {
   "cell_type": "code",
   "execution_count": 188,
   "metadata": {},
   "outputs": [
    {
     "data": {
      "text/plain": [
       "<matplotlib.axes._subplots.AxesSubplot at 0x11c2e2e80>"
      ]
     },
     "execution_count": 188,
     "metadata": {},
     "output_type": "execute_result"
    },
    {
     "data": {
      "image/png": "[encoded data removed]",
      "text/plain": [
       "<matplotlib.figure.Figure at 0x13c122438>"
      ]
     },
     "metadata": {},
     "output_type": "display_data"
    }
   ],
   "source": [
    "date_serie = df.query('RECORD_DATE > 1900').groupby('RECORD_DATE')['RECORD_DATE'].count()\n",
    "date_serie.plot('bar', grid=True, title='Number of records in the Joconde database per year')"
   ]
  },
  {
   "cell_type": "markdown",
   "metadata": {},
   "source": [
    "#### <br> French cities with most works (top 10)"
   ]
  },
  {
   "cell_type": "code",
   "execution_count": 189,
   "metadata": {},
   "outputs": [
    {
     "data": {
      "text/plain": [
       "<matplotlib.axes._subplots.AxesSubplot at 0x1215dcc50>"
      ]
     },
     "execution_count": 189,
     "metadata": {},
     "output_type": "execute_result"
    },
    {
     "data": {
      "image/png": "[encoded data removed]",
      "text/plain": [
       "<matplotlib.figure.Figure at 0x11f37d7f0>"
      ]
     },
     "metadata": {},
     "output_type": "display_data"
    }
   ],
   "source": [
    "df['CITY'].value_counts().nlargest(10).plot('barh', grid=True)"
   ]
  },
  {
   "cell_type": "markdown",
   "metadata": {},
   "source": [
    "##### Focus on Saint-Germain-en-Laye"
   ]
  },
  {
   "cell_type": "code",
   "execution_count": 190,
   "metadata": {},
   "outputs": [
    {
     "data": {
      "text/plain": [
       " musée d'Archéologie nationale        35889\n",
       " musée départemental Maurice Denis       11\n",
       " manquant                                 1\n",
       "Name: PLACE, dtype: int64"
      ]
     },
     "execution_count": 190,
     "metadata": {},
     "output_type": "execute_result"
    }
   ],
   "source": [
    "df[df['CITY'].str.contains('Saint-Germain-en-Laye')]['PLACE'].value_counts()"
   ]
  },
  {
   "cell_type": "markdown",
   "metadata": {},
   "source": [
    "#### <br> French museums with most works (top 10)"
   ]
  },
  {
   "cell_type": "code",
   "execution_count": 191,
   "metadata": {},
   "outputs": [
    {
     "data": {
      "text/plain": [
       "<matplotlib.axes._subplots.AxesSubplot at 0x174f40a90>"
      ]
     },
     "execution_count": 191,
     "metadata": {},
     "output_type": "execute_result"
    },
    {
     "data": {
      "image/png": "[encoded data removed]",
      "text/plain": [
       "<matplotlib.figure.Figure at 0x1747bdd68>"
      ]
     },
     "metadata": {},
     "output_type": "display_data"
    }
   ],
   "source": [
    "df['PLACE'].value_counts().nlargest(10).plot('barh', grid=True)"
   ]
  },
  {
   "cell_type": "markdown",
   "metadata": {},
   "source": [
    "#### <br> Main authors of the works (top 20)"
   ]
  },
  {
   "cell_type": "code",
   "execution_count": 192,
   "metadata": {},
   "outputs": [
    {
     "data": {
      "text/plain": [
       "anonyme                                                       52238\n",
       "RODIN Auguste                                                 12739\n",
       "CHAPU Henri Michel Antoine                                     9520\n",
       "BOUDIN Eugène                                                  7848\n",
       "MOREAU Gustave                                                 6668\n",
       "BARLA Jean-Baptiste (attribué à)                               5093\n",
       "JEAN-HAFFEN Yvonne                                             5040\n",
       "CHASSERIAU Théodore                                            4966\n",
       "manufacture de Sèvres                                          4111\n",
       "COROT Jean-Baptiste Camille                                    4109\n",
       "DELACROIX Eugène                                               4007\n",
       "manufacture indéterminée                                       3642\n",
       "UNGERER Tomi (dit), UNGERER Jean Thomas (patronyme)            3435\n",
       "anonyme (photographe)                                          3376\n",
       "INGRES Jean Auguste Dominique                                  3093\n",
       "STEINLEN Théophile Alexandre                                   2908\n",
       "LE BRUN Charles                                                2754\n",
       "PICASSO Pablo (dit), RUIZ-PICASSO Pablo                        2374\n",
       "HEBERT Ernest                                                  2133\n",
       "ALBERT-LASARD Lou (dite), ALBERT-LASARD Louise (patronyme)     2007\n",
       "Name: AUTR, dtype: int64"
      ]
     },
     "execution_count": 192,
     "metadata": {},
     "output_type": "execute_result"
    }
   ],
   "source": [
    "df['AUTR'].value_counts().nlargest(20)"
   ]
  },
  {
   "cell_type": "markdown",
   "metadata": {},
   "source": [
    "#### <br> Property of the works"
   ]
  },
  {
   "cell_type": "code",
   "execution_count": 193,
   "metadata": {},
   "outputs": [
    {
     "data": {
      "text/plain": [
       "propriété de l'Etat                  278405\n",
       "propriété de la commune              207120\n",
       "propriété du département              16090\n",
       "propriété privée personne morale      12451\n",
       "Name: PROPERTY, dtype: int64"
      ]
     },
     "execution_count": 193,
     "metadata": {},
     "output_type": "execute_result"
    }
   ],
   "source": [
    "df['PROPERTY'].value_counts().nlargest(4)"
   ]
  },
  {
   "cell_type": "markdown",
   "metadata": {},
   "source": [
    "#### <br> Main types of works"
   ]
  },
  {
   "cell_type": "code",
   "execution_count": 194,
   "metadata": {},
   "outputs": [
    {
     "data": {
      "text/plain": [
       "dessin                       233864\n",
       "peinture                      64694\n",
       "estampe                       34751\n",
       "sculpture                     29987\n",
       "archéologie ; néolithique     13832\n",
       "photographie ; ethnologie     10857\n",
       "photographie                  10419\n",
       "céramique                      9667\n",
       "Name: DOMN, dtype: int64"
      ]
     },
     "execution_count": 194,
     "metadata": {},
     "output_type": "execute_result"
    }
   ],
   "source": [
    "df['DOMN'].value_counts().nlargest(8)"
   ]
  },
  {
   "cell_type": "code",
   "execution_count": 195,
   "metadata": {},
   "outputs": [
    {
     "data": {
      "text/plain": [
       "album                             62191\n",
       "tableau                           62006\n",
       "élément d'ensemble                16748\n",
       "carte postale                     11645\n",
       "tirage photographique              7810\n",
       "statuette                          4996\n",
       "carte réclame                      4945\n",
       "plaque de verre photographique     4749\n",
       "Name: DENO, dtype: int64"
      ]
     },
     "execution_count": 195,
     "metadata": {},
     "output_type": "execute_result"
    }
   ],
   "source": [
    "df['DENO'].value_counts().nlargest(8)"
   ]
  }
 ],
 "metadata": {
  "kernelspec": {
   "display_name": "Python [default]",
   "language": "python",
   "name": "python3"
  },
  "language_info": {
   "codemirror_mode": {
    "name": "ipython",
    "version": 3
   },
   "file_extension": ".py",
   "mimetype": "text/x-python",
   "name": "python",
   "nbconvert_exporter": "python",
   "pygments_lexer": "ipython3",
   "version": "3.6.6"
  }
 },
 "nbformat": 4,
 "nbformat_minor": 2
}
